{
  "nbformat": 4,
  "nbformat_minor": 0,
  "metadata": {
    "colab": {
      "provenance": []
    },
    "kernelspec": {
      "name": "python3",
      "display_name": "Python 3"
    },
    "language_info": {
      "name": "python"
    }
  },
  "cells": [
    {
      "cell_type": "code",
      "execution_count": 10,
      "metadata": {
        "colab": {
          "base_uri": "https://localhost:8080/"
        },
        "id": "1TQ5P30ODf_Y",
        "outputId": "0a262466-f680-4198-a2b3-47707ab604dc"
      },
      "outputs": [
        {
          "output_type": "stream",
          "name": "stdout",
          "text": [
            "\n",
            "想查詢什麼中藥呢？(名稱/出典/處方/效能/適應症/結束查詢)：結束查詢\n",
            "謝謝使用本系統，下次再見！\n"
          ]
        }
      ],
      "source": [
        "prescription={\n",
        " '名稱':'人參養榮丸《丸》',\n",
        " '出典':'太平惠民和劑局方',\n",
        " '處方':{\n",
        "  '白芍':4, #公克\n",
        "  '當歸':2.5,\n",
        "  '炙甘草':2.5,\n",
        "  '桂心':2.5,\n",
        "  '陳皮':2.5,\n",
        "  '人參':2.5,\n",
        "  '白朮':2.5,\n",
        "  '黃耆':2.5,\n",
        "  '熟地黃':2,\n",
        "  '五味子':2,\n",
        "  '茯苓':2,\n",
        "  '遠志':1.5,\n",
        "  '生薑':3,\n",
        "  '大棗':1\n",
        " },\n",
        " '效能':'補氣血',\n",
        " '適應症':['脾補氣虛','營血不足','食少無味','身倦肌瘦']\n",
        "}\n",
        "\n",
        "# 使用 while 迴圈提供查詢服務\n",
        "while True:\n",
        "    query = input(\"\\n想查詢什麼中藥呢？(名稱/出典/處方/效能/適應症/結束查詢)：\")\n",
        "\n",
        "    if query == \"名稱\":\n",
        "        print(f\"{prescription['名稱']}\")\n",
        "    elif query == \"出典\":\n",
        "        print(f\"{prescription['名稱']}的出典為:{prescription['出典']}\")\n",
        "    elif query == \"適應症\":\n",
        "        print(f\"{prescription['名稱']}的適應症有:\")\n",
        "        for symptom in prescription['適應症']:\n",
        "            print(symptom)\n",
        "    elif query == \"處方\":\n",
        "        total_weight = sum(prescription['處方'].values())\n",
        "        print(f\"{prescription['名稱']}的處方為:\")\n",
        "        for medicine, weight in prescription['處方'].items():\n",
        "            print(f\"{medicine}：{weight}公克\")\n",
        "        print(f\"總克數為：{total_weight}公克\")\n",
        "    elif query == \"效能\":\n",
        "        print(f\"{prescription['名稱']}的效能是:{prescription['效能']}\")\n",
        "    elif query == \"結束查詢\":\n",
        "        print(\"謝謝使用本系統，下次再見！\")\n",
        "        break\n",
        "    else:\n",
        "        print(\"輸入無效，請重新輸入。\")"
      ]
    }
  ]
}