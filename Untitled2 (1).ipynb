{
  "nbformat": 4,
  "nbformat_minor": 0,
  "metadata": {
    "colab": {
      "provenance": []
    },
    "kernelspec": {
      "name": "python3",
      "display_name": "Python 3"
    },
    "language_info": {
      "name": "python"
    }
  },
  "cells": [
    {
      "cell_type": "code",
      "execution_count": 7,
      "metadata": {
        "colab": {
          "base_uri": "https://localhost:8080/"
        },
        "id": "mjwXPm0W9osW",
        "outputId": "2bd8265e-6b4f-4db5-ded0-1a65b843f12f"
      },
      "outputs": [
        {
          "output_type": "stream",
          "name": "stdout",
          "text": [
            "輸入範圍5\n",
            "1x1=1\n",
            "1x2=2\n",
            "1x3=3\n",
            "1x4=4\n",
            "1x5=5\n",
            "2x1=2\n",
            "2x2=4\n",
            "2x3=6\n",
            "2x4=8\n",
            "2x5=10\n",
            "3x1=3\n",
            "3x2=6\n",
            "3x3=9\n",
            "3x4=12\n",
            "3x5=15\n",
            "4x1=4\n",
            "4x2=8\n",
            "4x3=12\n",
            "4x4=16\n",
            "4x5=20\n",
            "5x1=5\n",
            "5x2=10\n",
            "5x3=15\n",
            "5x4=20\n",
            "5x5=25\n"
          ]
        }
      ],
      "source": [
        "number = int(input(\"輸入範圍\"))\n",
        "for i in range(1, number + 1):\n",
        "  for j in range(1, number + 1):\n",
        "    print(f\"{i}x{j}={i*j}\")"
      ]
    },
    {
      "cell_type": "code",
      "source": [
        "import random\n",
        "target_number\n",
        "=random.randint(1,100)\n",
        "\n",
        "print(\"歡迎參加猜數字遊戲\")\n",
        "\n",
        "while True:\n",
        "  guess=input(\"請輸入數字:\")\n",
        "  n = int(guess)\n",
        "  if n > target_number:\n",
        "    print(\"猜大了啦!\")\n",
        "  elif n < target_number:\n",
        "    print(\"猜小了啦!\")\n",
        "  elif n == target_number:\n",
        "    print(\"恭喜你猜對啦!\")\n",
        "    break\n",
        "\n",
        "\n",
        "\n",
        "\n",
        "\n"
      ],
      "metadata": {
        "colab": {
          "base_uri": "https://localhost:8080/"
        },
        "id": "kbEaMd3yCQn1",
        "outputId": "45129ef0-a3f2-4044-c7f4-ae510960a972"
      },
      "execution_count": 10,
      "outputs": [
        {
          "output_type": "stream",
          "name": "stdout",
          "text": [
            "歡迎參加猜數字遊戲\n",
            "請輸入數字:66\n",
            "猜大了啦!\n",
            "請輸入數字:30\n",
            "猜大了啦!\n",
            "請輸入數字:20\n",
            "猜大了啦!\n",
            "請輸入數字:10\n",
            "猜大了啦!\n",
            "請輸入數字:1\n",
            "猜小了啦!\n",
            "請輸入數字:5\n",
            "猜小了啦!\n",
            "請輸入數字:8\n",
            "猜大了啦!\n",
            "請輸入數字:7\n",
            "猜大了啦!\n",
            "請輸入數字:6\n",
            "恭喜你猜對啦!\n"
          ]
        }
      ]
    }
  ]
}